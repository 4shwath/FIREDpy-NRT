{
 "cells": [
  {
   "cell_type": "code",
   "execution_count": 59,
   "metadata": {},
   "outputs": [],
   "source": [
    "import xarray as xr\n",
    "import rioxarray\n",
    "import numpy as np\n",
    "import matplotlib.pyplot as plt\n",
    "import rasterio as rio\n",
    "import geopandas as gpd\n",
    "from glob import glob\n",
    "import os\n",
    "from matplotlib.colors import ListedColormap, BoundaryNorm\n",
    "from utils import draw_legend\n",
    "from config import Config\n",
    "import re\n",
    "from datetime import datetime\n",
    "import sys\n",
    "from rasterio.enums import Resampling\n",
    "import pandas as pd"
   ]
  },
  {
   "cell_type": "code",
   "execution_count": 60,
   "metadata": {},
   "outputs": [
    {
     "data": {
      "text/html": [
       "<div>\n",
       "<style scoped>\n",
       "    .dataframe tbody tr th:only-of-type {\n",
       "        vertical-align: middle;\n",
       "    }\n",
       "\n",
       "    .dataframe tbody tr th {\n",
       "        vertical-align: top;\n",
       "    }\n",
       "\n",
       "    .dataframe thead th {\n",
       "        text-align: right;\n",
       "    }\n",
       "</style>\n",
       "<table border=\"1\" class=\"dataframe\">\n",
       "  <thead>\n",
       "    <tr style=\"text-align: right;\">\n",
       "      <th></th>\n",
       "      <th>FID</th>\n",
       "      <th>DNBR</th>\n",
       "      <th>MASK</th>\n",
       "      <th>RGB_prefire</th>\n",
       "      <th>RGB_within_fire_period</th>\n",
       "      <th>RGB_post_fire</th>\n",
       "    </tr>\n",
       "  </thead>\n",
       "  <tbody>\n",
       "  </tbody>\n",
       "</table>\n",
       "</div>"
      ],
      "text/plain": [
       "Empty DataFrame\n",
       "Columns: [FID, DNBR, MASK, RGB_prefire, RGB_within_fire_period, RGB_post_fire]\n",
       "Index: []"
      ]
     },
     "execution_count": 60,
     "metadata": {},
     "output_type": "execute_result"
    }
   ],
   "source": [
    "#Define csv to trace filenames and fids\n",
    "\n",
    "headers = ['FID', 'DNBR', 'MASK', 'RGB_prefire', 'RGB_within_fire_period', 'RGB_post_fire']\n",
    "\n",
    "trace_df = pd.DataFrame(columns=headers)\n",
    "trace_df"
   ]
  },
  {
   "cell_type": "code",
   "execution_count": 61,
   "metadata": {},
   "outputs": [],
   "source": [
    "import warnings\n",
    "warnings.filterwarnings('ignore')\n",
    "config = Config()\n",
    "dir_separator = config.dir_sep"
   ]
  },
  {
   "cell_type": "code",
   "execution_count": 62,
   "metadata": {},
   "outputs": [],
   "source": [
    "#25993 landsat has many dnbr remaining, not necessary but if needed can re-run it\n",
    "fire_id = '5615'\n",
    "satellite = 'Landsat'\n",
    "image_dir = f'/Bhaltos/ASHWATH/optical_data_NoCloudMask_4Ryan/SAFE_files/{fire_id}/{satellite}/'\n",
    "if satellite == 'Sentinel':\n",
    "    file_address = glob(os.path.join(image_dir, '*.SAFE'))\n",
    "else:\n",
    "    file_address = glob(os.path.join(image_dir, '*_T[12]'))\n",
    "shp_filepath = '/home/aramakrishnan/Documents/Firedpy/Fire_events/selected_events.shp'"
   ]
  },
  {
   "cell_type": "code",
   "execution_count": 63,
   "metadata": {},
   "outputs": [
    {
     "data": {
      "text/plain": [
       "['/Bhaltos/ASHWATH/optical_data_NoCloudMask_4Ryan/SAFE_files/5615/Landsat/LC08_L1TP_036037_20210820_20210827_02_T1',\n",
       " '/Bhaltos/ASHWATH/optical_data_NoCloudMask_4Ryan/SAFE_files/5615/Landsat/LC08_L1TP_036037_20210804_20210811_02_T1',\n",
       " '/Bhaltos/ASHWATH/optical_data_NoCloudMask_4Ryan/SAFE_files/5615/Landsat/LC08_L1TP_036037_20210617_20210628_02_T1',\n",
       " '/Bhaltos/ASHWATH/optical_data_NoCloudMask_4Ryan/SAFE_files/5615/Landsat/LC08_L1TP_036037_20210601_20210608_02_T1',\n",
       " '/Bhaltos/ASHWATH/optical_data_NoCloudMask_4Ryan/SAFE_files/5615/Landsat/LC08_L1TP_036037_20210516_20210525_02_T1',\n",
       " '/Bhaltos/ASHWATH/optical_data_NoCloudMask_4Ryan/SAFE_files/5615/Landsat/LC08_L1TP_036037_20210430_20210508_02_T1',\n",
       " '/Bhaltos/ASHWATH/optical_data_NoCloudMask_4Ryan/SAFE_files/5615/Landsat/LC08_L1TP_036037_20210414_20210423_02_T1',\n",
       " '/Bhaltos/ASHWATH/optical_data_NoCloudMask_4Ryan/SAFE_files/5615/Landsat/LC08_L1TP_036037_20210329_20210409_02_T1',\n",
       " '/Bhaltos/ASHWATH/optical_data_NoCloudMask_4Ryan/SAFE_files/5615/Landsat/LC08_L1TP_036037_20210719_20210729_02_T1',\n",
       " '/Bhaltos/ASHWATH/optical_data_NoCloudMask_4Ryan/SAFE_files/5615/Landsat/LC08_L1TP_036037_20210703_20210712_02_T1',\n",
       " '/Bhaltos/ASHWATH/optical_data_NoCloudMask_4Ryan/SAFE_files/5615/Landsat/LC08_L1TP_035037_20210423_20210501_02_T1']"
      ]
     },
     "execution_count": 63,
     "metadata": {},
     "output_type": "execute_result"
    }
   ],
   "source": [
    "file_address"
   ]
  },
  {
   "cell_type": "code",
   "execution_count": 64,
   "metadata": {},
   "outputs": [],
   "source": [
    "# Code to delete unnecessary files and folders\n",
    "# Directory path where files are located\n",
    "\n",
    "def clean_up_data_folder():\n",
    "    directory = f'/Bhaltos/ASHWATH/optical_data_NoCloudMask_4Ryan/SAFE_files/{fire_id}/{satellite}'\n",
    "    \n",
    "    # Regular expression patterns to match file names\n",
    "    if satellite == 'Sentinel':\n",
    "        keep_file_patterns = [\n",
    "            r'^.*_B12_20m\\.jp2$',\n",
    "            r'^.*_B8A_20m\\.jp2$',\n",
    "            r'^.*_B0[2348]_10m\\.jp2$',\n",
    "            r'^.*Sentinel_footprints.geojson',\n",
    "            r'^.*MSK_CLASSI_B00.jp2$'\n",
    "        ]\n",
    "    else:\n",
    "        keep_file_patterns = [\n",
    "            r'^.*_B5\\.TIF$',\n",
    "            r'^.*_B7\\.TIF$',\n",
    "            r'^.*_B4\\.TIF$',\n",
    "            r'^.*_B3\\.TIF$',\n",
    "            r'^.*_B2\\.TIF$',\n",
    "        ]\n",
    "    \n",
    "    # Compile the regular expression patterns\n",
    "    patterns = [re.compile(pattern) for pattern in keep_file_patterns]\n",
    "    \n",
    "    # Iteratively search for and process files in subdirectories\n",
    "    for root, _, files in os.walk(directory):\n",
    "        for filename in files:\n",
    "            file_path = os.path.join(root, filename)\n",
    "            # Check if the file name matches any of the regular expression patterns\n",
    "            if any(pattern.match(filename) for pattern in patterns):\n",
    "                continue\n",
    "            else:\n",
    "                try:\n",
    "                    # Delete the file\n",
    "                    os.remove(file_path)\n",
    "                    print(f\"Deleted: {file_path}\")\n",
    "                except Exception as e:\n",
    "                    print(f\"Error deleting {file_path}: {e}\")\n",
    "        \n",
    "    # Delete empty subdirectories\n",
    "    for root, dirs, files in os.walk(directory):\n",
    "        for dir in dirs:\n",
    "            dir_path = os.path.join(root, dir)\n",
    "            # Check if the directory is empty\n",
    "            if not os.listdir(dir_path):\n",
    "                try:\n",
    "                    # Delete the empty directory\n",
    "                    os.rmdir(dir_path)\n",
    "                    print(f\"Deleted empty directory: {dir_path}\")\n",
    "                except Exception as e:\n",
    "                    print(f\"Error deleting directory {dir_path}: {e}\")"
   ]
  },
  {
   "cell_type": "code",
   "execution_count": 65,
   "metadata": {},
   "outputs": [],
   "source": [
    "for i in range(10):\n",
    "    clean_up_data_folder()"
   ]
  },
  {
   "cell_type": "code",
   "execution_count": 66,
   "metadata": {},
   "outputs": [
    {
     "data": {
      "text/plain": [
       "['9844',\n",
       " '11862',\n",
       " '12887',\n",
       " '202',\n",
       " '280',\n",
       " '5072',\n",
       " '5532',\n",
       " '7123',\n",
       " '25993',\n",
       " '47422',\n",
       " '2282',\n",
       " '2614',\n",
       " '4413',\n",
       " '5587',\n",
       " '5615',\n",
       " '5950',\n",
       " '2819',\n",
       " '5447',\n",
       " '7792',\n",
       " '8676']"
      ]
     },
     "execution_count": 66,
     "metadata": {},
     "output_type": "execute_result"
    }
   ],
   "source": [
    "fire_events = gpd.read_file(shp_filepath)\n",
    "fire_event_ids = list(fire_events['id'])\n",
    "fire_event_ids"
   ]
  },
  {
   "cell_type": "code",
   "execution_count": 67,
   "metadata": {},
   "outputs": [],
   "source": [
    "# #TO DELETE ALL UNNECESSARY FILES IN ONE GO\n",
    "# for fid in fire_event_ids:\n",
    "#    fire_id=fid\n",
    "#    for sat in ['Sentinel', 'Landsat']:\n",
    "#        satellite=sat\n",
    "#        for i in range(10):\n",
    "#            try:\n",
    "#                clean_up_data_folder()\n",
    "#            except:\n",
    "#               continue"
   ]
  },
  {
   "cell_type": "code",
   "execution_count": 68,
   "metadata": {},
   "outputs": [
    {
     "data": {
      "text/html": [
       "<div>\n",
       "<style scoped>\n",
       "    .dataframe tbody tr th:only-of-type {\n",
       "        vertical-align: middle;\n",
       "    }\n",
       "\n",
       "    .dataframe tbody tr th {\n",
       "        vertical-align: top;\n",
       "    }\n",
       "\n",
       "    .dataframe thead th {\n",
       "        text-align: right;\n",
       "    }\n",
       "</style>\n",
       "<table border=\"1\" class=\"dataframe\">\n",
       "  <thead>\n",
       "    <tr style=\"text-align: right;\">\n",
       "      <th></th>\n",
       "      <th>fid_1</th>\n",
       "      <th>id</th>\n",
       "      <th>ig_date</th>\n",
       "      <th>ig_day</th>\n",
       "      <th>ig_month</th>\n",
       "      <th>ig_year</th>\n",
       "      <th>last_date</th>\n",
       "      <th>event_dur</th>\n",
       "      <th>tot_pix</th>\n",
       "      <th>tot_ar_km2</th>\n",
       "      <th>...</th>\n",
       "      <th>lc_mode</th>\n",
       "      <th>lc_name</th>\n",
       "      <th>lc_desc</th>\n",
       "      <th>lc_type</th>\n",
       "      <th>tot_perim</th>\n",
       "      <th>layer</th>\n",
       "      <th>path</th>\n",
       "      <th>main_clim</th>\n",
       "      <th>Koppen_c</th>\n",
       "      <th>geometry</th>\n",
       "    </tr>\n",
       "  </thead>\n",
       "  <tbody>\n",
       "    <tr>\n",
       "      <th>14</th>\n",
       "      <td>5615</td>\n",
       "      <td>5615</td>\n",
       "      <td>2021-05-29</td>\n",
       "      <td>149</td>\n",
       "      <td>5</td>\n",
       "      <td>2021</td>\n",
       "      <td>2021-06-22</td>\n",
       "      <td>25</td>\n",
       "      <td>4478</td>\n",
       "      <td>961.241539</td>\n",
       "      <td>...</td>\n",
       "      <td>255</td>\n",
       "      <td>Unclassified</td>\n",
       "      <td>Has not received a map label because of missin...</td>\n",
       "      <td>IGBP global vegetation classification scheme</td>\n",
       "      <td>447480.084166</td>\n",
       "      <td>h8_LC_selected</td>\n",
       "      <td>E:\\Projects\\UCB\\FiredPy\\firedpy\\proj\\outputs\\s...</td>\n",
       "      <td>Temperate</td>\n",
       "      <td>Csa</td>\n",
       "      <td>MULTIPOLYGON (((-110.76490 33.14166, -110.7649...</td>\n",
       "    </tr>\n",
       "  </tbody>\n",
       "</table>\n",
       "<p>1 rows × 34 columns</p>\n",
       "</div>"
      ],
      "text/plain": [
       "   fid_1    id     ig_date ig_day ig_month ig_year   last_date event_dur   \n",
       "14  5615  5615  2021-05-29    149        5    2021  2021-06-22        25  \\\n",
       "\n",
       "   tot_pix  tot_ar_km2  ...  lc_mode       lc_name   \n",
       "14    4478  961.241539  ...      255  Unclassified  \\\n",
       "\n",
       "                                              lc_desc   \n",
       "14  Has not received a map label because of missin...  \\\n",
       "\n",
       "                                         lc_type      tot_perim   \n",
       "14  IGBP global vegetation classification scheme  447480.084166  \\\n",
       "\n",
       "             layer                                               path   \n",
       "14  h8_LC_selected  E:\\Projects\\UCB\\FiredPy\\firedpy\\proj\\outputs\\s...  \\\n",
       "\n",
       "    main_clim Koppen_c                                           geometry  \n",
       "14  Temperate      Csa  MULTIPOLYGON (((-110.76490 33.14166, -110.7649...  \n",
       "\n",
       "[1 rows x 34 columns]"
      ]
     },
     "execution_count": 68,
     "metadata": {},
     "output_type": "execute_result"
    }
   ],
   "source": [
    "fire_events[fire_events['fid_1'] == fire_id]"
   ]
  },
  {
   "cell_type": "code",
   "execution_count": 69,
   "metadata": {},
   "outputs": [],
   "source": [
    "def get_fid_dates(fire_id):\n",
    "    # Fetch start and end dates for the fire event\n",
    "    fires = gpd.read_file(shp_filepath)\n",
    "    if not str(fire_id) in fires['id'].values:\n",
    "     print(\"invalid fire ID provided! Make sure the ID exists in the fire events shapefile\")\n",
    "     sys.exit()\n",
    "    fire_event = fires[fires['id'] == str(fire_id)]\n",
    "    start_date = datetime.strptime(fire_event['ig_date'].values[0], \"%Y-%m-%d\")\n",
    "    end_date = datetime.strptime(fire_event['last_date'].values[0], \"%Y-%m-%d\")\n",
    "    return start_date, end_date"
   ]
  },
  {
   "cell_type": "code",
   "execution_count": 70,
   "metadata": {},
   "outputs": [],
   "source": [
    "start_date, end_date = get_fid_dates(fire_id)"
   ]
  },
  {
   "cell_type": "code",
   "execution_count": 71,
   "metadata": {},
   "outputs": [
    {
     "data": {
      "text/plain": [
       "datetime.datetime(2021, 5, 29, 0, 0)"
      ]
     },
     "execution_count": 71,
     "metadata": {},
     "output_type": "execute_result"
    }
   ],
   "source": [
    "start_date"
   ]
  },
  {
   "cell_type": "code",
   "execution_count": 72,
   "metadata": {},
   "outputs": [
    {
     "data": {
      "text/plain": [
       "datetime.datetime(2021, 6, 22, 0, 0)"
      ]
     },
     "execution_count": 72,
     "metadata": {},
     "output_type": "execute_result"
    }
   ],
   "source": [
    "end_date"
   ]
  },
  {
   "cell_type": "code",
   "execution_count": 73,
   "metadata": {},
   "outputs": [],
   "source": [
    "def extract_date_from_path_sentinel(file_path):\n",
    "    ''' Extracts the acquisition datetime from the Sentinel file path. '''\n",
    "    \n",
    "    date_str = file_path.split('/')[-1].split('_')[1]\n",
    "    return datetime.strptime(date_str, \"%Y%m%dT%H%M%S\")"
   ]
  },
  {
   "cell_type": "code",
   "execution_count": 74,
   "metadata": {},
   "outputs": [],
   "source": [
    "def extract_date_from_path_landsat(file_path):\n",
    "    ''' Extracts the acquisition datetime from the Landsat file path. '''\n",
    "    \n",
    "    date_str = file_path.split('/')[-1].split('_')[3]\n",
    "    return datetime.strptime(date_str, \"%Y%m%d\")"
   ]
  },
  {
   "cell_type": "code",
   "execution_count": 75,
   "metadata": {},
   "outputs": [],
   "source": [
    "def filter_paths_by_date(start_date, end_date, file_paths):\n",
    "    ''' Filter image paths by datetime into pre-fire and post-fire. '''\n",
    "    \n",
    "    pre_fire_paths = []\n",
    "    post_fire_paths = []\n",
    "    in_fire_paths = []\n",
    "\n",
    "    for path in file_paths:\n",
    "        if satellite == 'Sentinel':\n",
    "            date_in_path = extract_date_from_path_sentinel(path)\n",
    "        else:\n",
    "            date_in_path = extract_date_from_path_landsat(path)\n",
    "\n",
    "        if date_in_path < start_date:\n",
    "            pre_fire_paths.append(path)\n",
    "        elif date_in_path > end_date:\n",
    "            post_fire_paths.append(path)\n",
    "        else:\n",
    "            in_fire_paths.append(path)\n",
    "\n",
    "    return pre_fire_paths, post_fire_paths, in_fire_paths"
   ]
  },
  {
   "cell_type": "code",
   "execution_count": 76,
   "metadata": {},
   "outputs": [],
   "source": [
    "def extract_file_path_components_sentinel(path1, path2):\n",
    "    ''' Extracts file name components from Sentinel file path. '''\n",
    "    \n",
    "    satellite_mission = re.search(r'Sentinel/(.*?)_', path1).group(1)\n",
    "    processing_level = re.search(r'GRANULE/(.*?)_', path1).group(1).split('_')[0]\n",
    "    location_id = re.search(r'R\\d+m/(.*?)_', path1).group(1)\n",
    "    date1 = re.search(rf'/{location_id}_(.*?)_B', path1).group(1)\n",
    "    date2 = re.search(rf'/{location_id}_(.*?)_B', path2).group(1)\n",
    "    components = (satellite_mission, processing_level, location_id, date1, date2)\n",
    "\n",
    "    return components"
   ]
  },
  {
   "cell_type": "code",
   "execution_count": 77,
   "metadata": {},
   "outputs": [],
   "source": [
    "def extract_file_path_components_landsat(path1, path2):\n",
    "    ''' Extracts file name components from Landsat file path. '''\n",
    "    \n",
    "    satellite_mission = re.search(r'Landsat/(.*?)_', path1).group(1)\n",
    "    processing_level = path1.split('/')[-1].split('_')[1]\n",
    "    location_id = path1.split('/')[-1].split('_')[2]\n",
    "    date1 = path1.split('/')[-1].split('_')[3]\n",
    "    date2 = path2.split('/')[-1].split('_')[3]\n",
    "    components = (satellite_mission, processing_level, location_id, date1, date2)\n",
    "\n",
    "    return components"
   ]
  },
  {
   "cell_type": "code",
   "execution_count": 78,
   "metadata": {},
   "outputs": [],
   "source": [
    "def make_file_paths(file_path_components, resolution='10m'):\n",
    "    ''' Creates dNBR and mask output file paths. '''\n",
    "    \n",
    "    satellite_mission = file_path_components[0]\n",
    "    process_level = file_path_components[1]\n",
    "    location_id = file_path_components[2]\n",
    "\n",
    "    img1_acquired_date = file_path_components[3]\n",
    "    img2_acquired_date = file_path_components[4]\n",
    "    \n",
    "    dNBR_path = f'{satellite_mission}_{process_level}_{location_id}_{fire_id}_{img1_acquired_date}_{img2_acquired_date}_{resolution}_DNBR.TIF'\n",
    "    mask_path = f'{satellite_mission}_{process_level}_{location_id}_{fire_id}_{img1_acquired_date}_{img2_acquired_date}_{resolution}_MASK.TIF'\n",
    "    \n",
    "    file_paths = [dNBR_path, mask_path]\n",
    "\n",
    "    return file_paths"
   ]
  },
  {
   "cell_type": "code",
   "execution_count": 79,
   "metadata": {},
   "outputs": [],
   "source": [
    "def make_rgb_path(file_path, satellite, resolution='10m'):\n",
    "    ''' Creates RGB output file path. '''\n",
    "    \n",
    "    if satellite == 'Sentinel':\n",
    "        satellite_mission = re.search(r'Sentinel/(.*?)_', file_path).group(1)\n",
    "        process_level = re.search(r'GRANULE/(.*?)_', file_path).group(1).split('_')[0]\n",
    "        location_id = re.search(r'R\\d+m/(.*?)_', file_path).group(1)\n",
    "        acquired_date = re.search(rf'/{location_id}_(.*?)_B', file_path).group(1)\n",
    "    \n",
    "    else:\n",
    "        satellite_mission = re.search(r'Landsat/(.*?)_', file_path).group(1)\n",
    "        process_level = file_path.split('/')[-1].split('_')[1]\n",
    "        location_id = file_path.split('/')[-1].split('_')[2]\n",
    "        acquired_date = file_path.split('/')[-1].split('_')[3]\n",
    "    \n",
    "    rgb_path = f'{satellite_mission}_{process_level}_{location_id}_{fire_id}_{acquired_date}_{resolution}_RGB.TIF'\n",
    "    \n",
    "    return rgb_path"
   ]
  },
  {
   "cell_type": "code",
   "execution_count": 80,
   "metadata": {},
   "outputs": [],
   "source": [
    "image_DIRs = []\n",
    "\n",
    "if satellite == 'Sentinel':\n",
    "    for file in file_address:\n",
    "        granule_address = glob(os.path.join(file, \"GRANULE/*\"))[0]\n",
    "        try:\n",
    "            image_address = glob(os.path.join(granule_address, \"IMG_DATA/R20m/*B12_20m.jp2\"))[0]\n",
    "        except:\n",
    "            continue\n",
    "        image_DIRs.append(image_address)\n",
    "\n",
    "else:\n",
    "    for file in file_address:\n",
    "        try:\n",
    "            image_address = glob(os.path.join(file, \"*_B5.TIF\"))[0]\n",
    "        except:\n",
    "            continue\n",
    "        image_DIRs.append(image_address)"
   ]
  },
  {
   "cell_type": "code",
   "execution_count": 81,
   "metadata": {},
   "outputs": [
    {
     "data": {
      "text/plain": [
       "['/Bhaltos/ASHWATH/optical_data_NoCloudMask_4Ryan/SAFE_files/5615/Landsat/LC08_L1TP_036037_20210820_20210827_02_T1/LC08_L1TP_036037_20210820_20210827_02_T1_B5.TIF',\n",
       " '/Bhaltos/ASHWATH/optical_data_NoCloudMask_4Ryan/SAFE_files/5615/Landsat/LC08_L1TP_036037_20210804_20210811_02_T1/LC08_L1TP_036037_20210804_20210811_02_T1_B5.TIF',\n",
       " '/Bhaltos/ASHWATH/optical_data_NoCloudMask_4Ryan/SAFE_files/5615/Landsat/LC08_L1TP_036037_20210617_20210628_02_T1/LC08_L1TP_036037_20210617_20210628_02_T1_B5.TIF',\n",
       " '/Bhaltos/ASHWATH/optical_data_NoCloudMask_4Ryan/SAFE_files/5615/Landsat/LC08_L1TP_036037_20210601_20210608_02_T1/LC08_L1TP_036037_20210601_20210608_02_T1_B5.TIF',\n",
       " '/Bhaltos/ASHWATH/optical_data_NoCloudMask_4Ryan/SAFE_files/5615/Landsat/LC08_L1TP_036037_20210516_20210525_02_T1/LC08_L1TP_036037_20210516_20210525_02_T1_B5.TIF',\n",
       " '/Bhaltos/ASHWATH/optical_data_NoCloudMask_4Ryan/SAFE_files/5615/Landsat/LC08_L1TP_036037_20210430_20210508_02_T1/LC08_L1TP_036037_20210430_20210508_02_T1_B5.TIF',\n",
       " '/Bhaltos/ASHWATH/optical_data_NoCloudMask_4Ryan/SAFE_files/5615/Landsat/LC08_L1TP_036037_20210414_20210423_02_T1/LC08_L1TP_036037_20210414_20210423_02_T1_B5.TIF',\n",
       " '/Bhaltos/ASHWATH/optical_data_NoCloudMask_4Ryan/SAFE_files/5615/Landsat/LC08_L1TP_036037_20210329_20210409_02_T1/LC08_L1TP_036037_20210329_20210409_02_T1_B5.TIF',\n",
       " '/Bhaltos/ASHWATH/optical_data_NoCloudMask_4Ryan/SAFE_files/5615/Landsat/LC08_L1TP_036037_20210719_20210729_02_T1/LC08_L1TP_036037_20210719_20210729_02_T1_B5.TIF',\n",
       " '/Bhaltos/ASHWATH/optical_data_NoCloudMask_4Ryan/SAFE_files/5615/Landsat/LC08_L1TP_036037_20210703_20210712_02_T1/LC08_L1TP_036037_20210703_20210712_02_T1_B5.TIF',\n",
       " '/Bhaltos/ASHWATH/optical_data_NoCloudMask_4Ryan/SAFE_files/5615/Landsat/LC08_L1TP_035037_20210423_20210501_02_T1/LC08_L1TP_035037_20210423_20210501_02_T1_B5.TIF']"
      ]
     },
     "execution_count": 81,
     "metadata": {},
     "output_type": "execute_result"
    }
   ],
   "source": [
    "image_DIRs"
   ]
  },
  {
   "cell_type": "code",
   "execution_count": 82,
   "metadata": {},
   "outputs": [],
   "source": [
    "pre_fire_paths, post_fire_paths, in_fire_paths = filter_paths_by_date(start_date, end_date, image_DIRs)"
   ]
  },
  {
   "cell_type": "code",
   "execution_count": 83,
   "metadata": {},
   "outputs": [
    {
     "data": {
      "text/plain": [
       "['/Bhaltos/ASHWATH/optical_data_NoCloudMask_4Ryan/SAFE_files/5615/Landsat/LC08_L1TP_036037_20210516_20210525_02_T1/LC08_L1TP_036037_20210516_20210525_02_T1_B5.TIF',\n",
       " '/Bhaltos/ASHWATH/optical_data_NoCloudMask_4Ryan/SAFE_files/5615/Landsat/LC08_L1TP_036037_20210430_20210508_02_T1/LC08_L1TP_036037_20210430_20210508_02_T1_B5.TIF',\n",
       " '/Bhaltos/ASHWATH/optical_data_NoCloudMask_4Ryan/SAFE_files/5615/Landsat/LC08_L1TP_036037_20210414_20210423_02_T1/LC08_L1TP_036037_20210414_20210423_02_T1_B5.TIF',\n",
       " '/Bhaltos/ASHWATH/optical_data_NoCloudMask_4Ryan/SAFE_files/5615/Landsat/LC08_L1TP_036037_20210329_20210409_02_T1/LC08_L1TP_036037_20210329_20210409_02_T1_B5.TIF',\n",
       " '/Bhaltos/ASHWATH/optical_data_NoCloudMask_4Ryan/SAFE_files/5615/Landsat/LC08_L1TP_035037_20210423_20210501_02_T1/LC08_L1TP_035037_20210423_20210501_02_T1_B5.TIF']"
      ]
     },
     "execution_count": 83,
     "metadata": {},
     "output_type": "execute_result"
    }
   ],
   "source": [
    "pre_fire_paths"
   ]
  },
  {
   "cell_type": "code",
   "execution_count": 84,
   "metadata": {},
   "outputs": [
    {
     "data": {
      "text/plain": [
       "['/Bhaltos/ASHWATH/optical_data_NoCloudMask_4Ryan/SAFE_files/5615/Landsat/LC08_L1TP_036037_20210820_20210827_02_T1/LC08_L1TP_036037_20210820_20210827_02_T1_B5.TIF',\n",
       " '/Bhaltos/ASHWATH/optical_data_NoCloudMask_4Ryan/SAFE_files/5615/Landsat/LC08_L1TP_036037_20210804_20210811_02_T1/LC08_L1TP_036037_20210804_20210811_02_T1_B5.TIF',\n",
       " '/Bhaltos/ASHWATH/optical_data_NoCloudMask_4Ryan/SAFE_files/5615/Landsat/LC08_L1TP_036037_20210719_20210729_02_T1/LC08_L1TP_036037_20210719_20210729_02_T1_B5.TIF',\n",
       " '/Bhaltos/ASHWATH/optical_data_NoCloudMask_4Ryan/SAFE_files/5615/Landsat/LC08_L1TP_036037_20210703_20210712_02_T1/LC08_L1TP_036037_20210703_20210712_02_T1_B5.TIF']"
      ]
     },
     "execution_count": 84,
     "metadata": {},
     "output_type": "execute_result"
    }
   ],
   "source": [
    "post_fire_paths"
   ]
  },
  {
   "cell_type": "code",
   "execution_count": 85,
   "metadata": {},
   "outputs": [
    {
     "name": "stdout",
     "output_type": "stream",
     "text": [
      "No. of pre-fire images: 5\n",
      "No. of post-fire images: 4\n",
      "No. of during-fire images: 2\n"
     ]
    }
   ],
   "source": [
    "print(f'No. of pre-fire images: {len(pre_fire_paths)}')\n",
    "print(f'No. of post-fire images: {len(post_fire_paths)}')\n",
    "print(f'No. of during-fire images: {len(in_fire_paths)}')"
   ]
  },
  {
   "cell_type": "code",
   "execution_count": 86,
   "metadata": {},
   "outputs": [],
   "source": [
    "labels = [\"pre_fire\", \"post_fire\"]\n",
    "nbr_raws = dict.fromkeys(labels, None)"
   ]
  },
  {
   "cell_type": "code",
   "execution_count": 87,
   "metadata": {},
   "outputs": [],
   "source": [
    "fire_events = gpd.read_file(shp_filepath)"
   ]
  },
  {
   "cell_type": "code",
   "execution_count": 88,
   "metadata": {},
   "outputs": [
    {
     "data": {
      "text/plain": [
       "<Geographic 2D CRS: EPSG:4326>\n",
       "Name: WGS 84\n",
       "Axis Info [ellipsoidal]:\n",
       "- Lat[north]: Geodetic latitude (degree)\n",
       "- Lon[east]: Geodetic longitude (degree)\n",
       "Area of Use:\n",
       "- name: World.\n",
       "- bounds: (-180.0, -90.0, 180.0, 90.0)\n",
       "Datum: World Geodetic System 1984 ensemble\n",
       "- Ellipsoid: WGS 84\n",
       "- Prime Meridian: Greenwich"
      ]
     },
     "execution_count": 88,
     "metadata": {},
     "output_type": "execute_result"
    }
   ],
   "source": [
    "fire_events.crs"
   ]
  },
  {
   "cell_type": "code",
   "execution_count": 89,
   "metadata": {},
   "outputs": [],
   "source": [
    "mask_geom = fire_events[fire_events['id']==fire_id]['geometry'].values"
   ]
  },
  {
   "cell_type": "code",
   "execution_count": 90,
   "metadata": {},
   "outputs": [],
   "source": [
    "MASK_IMAGES = False"
   ]
  },
  {
   "cell_type": "code",
   "execution_count": 91,
   "metadata": {},
   "outputs": [],
   "source": [
    "def resample_band(band, upscale_factor = 3):\n",
    "    \"\"\"\n",
    "    Resamples the given raster band using bilinear interpolation.\n",
    "    Written to resample landsat images from the original 30m resolution to the \n",
    "    10m resolution desired for dNBR.\n",
    "\n",
    "    This function takes a raster band and a scaling factor, and resamples the band using bilinear interpolation.\n",
    "    It returns the resampled band with the new dimensions calculated based on the provided scaling factor.\n",
    "    The primary use of this function is to increase the resolution of a band, making it suitable for merging\n",
    "    with other bands of higher resolution.\n",
    "\n",
    "    Parameters:\n",
    "        band (xarray.DataArray): The raster band to be resampled.\n",
    "        upscale_factor (int, optional): The factor by which the band should be upscaled. Default is 3.\n",
    "\n",
    "    Returns:\n",
    "        xarray.DataArray: The resampled band with new dimensions.\n",
    "    \"\"\"\n",
    "    new_width = int(band.rio.width * upscale_factor)\n",
    "    new_height = int(band.rio.height * upscale_factor)\n",
    "    #new_width, new_height = 10980, 10980\n",
    "    \n",
    "    band_upsampled = band.rio.reproject(\n",
    "        band.rio.crs,\n",
    "        shape=(new_height, new_width),\n",
    "        resampling=Resampling.bilinear)\n",
    "    \n",
    "    return band_upsampled"
   ]
  },
  {
   "cell_type": "code",
   "execution_count": 92,
   "metadata": {},
   "outputs": [],
   "source": [
    "def read_landsat_image(image_path, shift_dn):\n",
    "    \"\"\"\n",
    "    Reads NIR and SWIR bands of a Landsat image, optionally resamples them, and loads them into memory.\n",
    "\n",
    "    This function reads the NIR (band 5) and SWIR (band 7) bands of a Landsat image from the specified directory.\n",
    "    It optionally resamples the bands to increase their resolution. The bands are then concatenated into a single\n",
    "    xarray.DataArray object. If the shift_dn parameter is set to True, the function subtracts 1000 from the pixel values.\n",
    "    The resulting multi-band image is returned for further processing.\n",
    "\n",
    "    Parameters:\n",
    "        image_dir (str): The directory where the Landsat image bands are located.\n",
    "        ext (str): The file extension of the image bands (e.g., 'TIF', 'tif').\n",
    "        resample (bool): Whether to resample the bands to increase their resolution.\n",
    "        shift_dn (bool): Whether to subtract 1000 from the pixel values.\n",
    "\n",
    "    Returns:\n",
    "        xarray.DataArray: The multi-band image with the NIR and SWIR bands.\n",
    "    \"\"\"\n",
    "    bands = []\n",
    "    image_path = image_path[:image_path.find('_B')+2]\n",
    "    \n",
    "    if MASK_IMAGES:\n",
    "        nir = rioxarray.open_rasterio(f\"{image_path}5.TIF\").rio.clip(mask_geom, fire_events.crs)\n",
    "        swir = rioxarray.open_rasterio(f\"{image_path}7.TIF\").rio.clip(mask_geom, fire_events.crs)\n",
    "    else:\n",
    "        nir = rioxarray.open_rasterio(f\"{image_path}5.TIF\")\n",
    "        swir = rioxarray.open_rasterio(f\"{image_path}7.TIF\")\n",
    "    \n",
    "    nir = resample_band(nir)\n",
    "    swir = resample_band(swir)\n",
    "    \n",
    "    print(nir.shape)\n",
    "    print(swir.shape)\n",
    "    \n",
    "    bands.append(nir)\n",
    "    bands.append(swir)\n",
    "    \n",
    "    print('Resampled NIR shape: ', nir.shape)\n",
    "    print(\"Resampled SWIR shape: \", swir.shape)\n",
    "\n",
    "    del nir, swir\n",
    "        \n",
    "    \n",
    "    image = xr.concat(bands, dim=\"band\")\n",
    "    image = image.assign_coords(dict(band=[\"nir\", \"swir\"]))\n",
    "    if shift_dn: #TODO: Lookup what this shift is for\n",
    "        image = image - 1000\n",
    "    \n",
    "    print(\"Image SR loaded\\n\")\n",
    "\n",
    "    return image"
   ]
  },
  {
   "cell_type": "code",
   "execution_count": 93,
   "metadata": {},
   "outputs": [],
   "source": [
    "def read_image(image_path, shift_dn, is_sr=True):\n",
    "    '''\n",
    "    Loads the NIR and SWIR bands of Sentinel-2 images into memory.\n",
    "\n",
    "    This function reads NIR and SWIR bands from Sentinel-2 images, resamples the SWIR band to\n",
    "    match the resolution of the NIR band, and combines them into an xarray dataset. It also\n",
    "    performs some preprocessing steps, such as clipping the images with a mask, applying a shift,\n",
    "    and handling surface reflectance (SR) images.\n",
    "\n",
    "    Parameters:\n",
    "    -----------\n",
    "    shift_dn : bool\n",
    "        A flag indicating whether to apply a shift to the pixel values.\n",
    "    is_sr : bool\n",
    "        A flag indicating whether the image is surface reflectance (SR) or not.\n",
    "    '''\n",
    "    \n",
    "    bands = []    \n",
    "    \n",
    "    swir_image_path = image_path[:image_path.find('_B')+2]\n",
    "    nir_image_path = swir_image_path.replace('R20', 'R10')\n",
    "    \n",
    "    if MASK_IMAGES:\n",
    "        nir = rioxarray.open_rasterio(f\"{nir_image_path}08_10m.jp2\").rio.clip(mask_geom, fire_events.crs)\n",
    "        swir = rioxarray.open_rasterio(f\"{swir_image_path}12_20m.jp2\").rio.clip(mask_geom, fire_events.crs)\n",
    "    else:\n",
    "        nir = rioxarray.open_rasterio(f\"{nir_image_path}08_10m.jp2\")\n",
    "        swir = rioxarray.open_rasterio(f\"{swir_image_path}12_20m.jp2\")\n",
    "    \n",
    "    if is_sr:\n",
    "        nir = nir.where(lambda x: x > 0, other=np.nan)\n",
    "        swir = swir.where(lambda x: x > 0, other=np.nan)\n",
    "    bands.append(nir)\n",
    "\n",
    "    swir_resampled = swir.rio.reproject_match(nir)\n",
    "    bands.append(swir_resampled)\n",
    "    print('NIR shape: ', nir.shape)\n",
    "    print(\"Resampled SWIR shape: \", swir_resampled.shape)\n",
    "\n",
    "    del nir, swir, swir_resampled\n",
    "    \n",
    "    image = xr.concat(bands, dim=\"band\")\n",
    "    image = image.assign_coords(dict(band=[\"nir\", \"swir\"]))\n",
    "    if shift_dn: #TODO: Lookup what this shift is for\n",
    "        image = image - 1000\n",
    "    \n",
    "    print(f\"Image SR loaded\\n\")\n",
    "\n",
    "    return image"
   ]
  },
  {
   "cell_type": "code",
   "execution_count": 94,
   "metadata": {},
   "outputs": [],
   "source": [
    "def open_RGB(image_path, satellite, shift_dn=False):\n",
    "    '''\n",
    "    Loads the red, green, and blue bands of a Sentinel-2 image to create an RGB image.\n",
    "\n",
    "    This function reads the red (B4), green (B3), and blue (B2) bands from a Sentinel-2 image,\n",
    "    combines them into an xarray dataset, and applies a shift to the pixel values if specified.\n",
    "    The function can also clip the images with a mask if the global variable MASK_IMAGES is set to True.\n",
    "\n",
    "    Parameters:\n",
    "    -----------\n",
    "    shift_dn : bool\n",
    "        A flag indicating whether to apply a shift to the pixel values.\n",
    "    '''\n",
    "\n",
    "    if satellite == 'Sentinel':\n",
    "        image_path = image_path[:image_path.find('_B')+2]\n",
    "        image_path = image_path.replace('R20', 'R10')\n",
    "\n",
    "        if MASK_IMAGES:\n",
    "            rgb = [rioxarray.open_rasterio(f\"{image_path}0{x}_10m.jp2\").rio.clip(mask_geom, fire_events.crs) for x in [4,3,2]]\n",
    "        else:\n",
    "            rgb = [rioxarray.open_rasterio(f\"{image_path}0{x}_10m.jp2\") for x in [4,3,2]]\n",
    "    \n",
    "    else:\n",
    "        image_path = image_path[:image_path.find('_B')+2]\n",
    "\n",
    "        if MASK_IMAGES:\n",
    "            rgb = [rioxarray.open_rasterio(f\"{image_path}{x}.TIF\").rio.clip(mask_geom, fire_events.crs) for x in [4,3,2]]\n",
    "        else:\n",
    "            rgb = [rioxarray.open_rasterio(f\"{image_path}{x}.TIF\") for x in [4,3,2]]\n",
    "    \n",
    "    rgb = xr.concat(rgb, dim=\"band\")\n",
    "    rgb = rgb.assign_coords(dict(band=[\"r\",\"g\",\"b\"]))\n",
    "\n",
    "    if shift_dn:\n",
    "        rgb = rgb - 1000\n",
    "\n",
    "    print('RGB loaded')\n",
    "    \n",
    "    return rgb"
   ]
  },
  {
   "cell_type": "code",
   "execution_count": 95,
   "metadata": {},
   "outputs": [],
   "source": [
    "def get_NBRs(image_sr):\n",
    "    '''\n",
    "    Calculates the Normalized Burn Ratio (NBR) for the Surface Reflectance (SR) Sentinel-2 images.\n",
    "\n",
    "    This function computes the NBR, which is used to identify burned areas in satellite images.\n",
    "    The NBR is calculated using the Near-Infrared (NIR) and Short-Wave Infrared (SWIR) bands of the images.\n",
    "    \n",
    "    The formula for NBR is given by: \n",
    "        NBR = (NIR - SWIR) / (NIR + SWIR) = (B08 - B12) / (B08 + B12)\n",
    "    '''\n",
    "    NBR_SR = (image_sr.sel(band=\"nir\") - image_sr.sel(band=\"swir\"))/(image_sr.sel(band=\"nir\") + image_sr.sel(band=\"swir\"))\n",
    "    \n",
    "    return NBR_SR"
   ]
  },
  {
   "cell_type": "code",
   "execution_count": 96,
   "metadata": {},
   "outputs": [],
   "source": [
    "def plot_dNBR_mask(dNBR, mask):\n",
    "    '''Plots dNBR and mask images in a single plot. '''\n",
    "\n",
    "    colors = ['darkorange', 'lightyellow', 'grey']\n",
    "    severity_labels = ['Burned', 'Unburned', 'Out of range']\n",
    "    class_bins = [0.5, 1.5, 2.5, 3.5]\n",
    "\n",
    "    cmap = ListedColormap(colors)\n",
    "    norm = BoundaryNorm(class_bins, len(colors))\n",
    "\n",
    "    #cmap='RdBu_r' for dNBR if needed\n",
    "    fig, axes = plt.subplots(1,2,figsize=(14,6))\n",
    "    dNBR.plot.imshow(ax=axes[0])\n",
    "    axes[0].set_title(\"dNBR\")\n",
    "    axes[0].set_xlabel('x coordinate of projection (metre)')\n",
    "    axes[0].set_ylabel('y coordinate of projection (metre)')\n",
    "\n",
    "    plot = mask.plot.imshow(cmap=cmap, norm=norm, add_colorbar=False, ax=axes[1])\n",
    "    draw_legend(plot, titles=severity_labels)\n",
    "    axes[1].set_title(\"Mask\")\n",
    "    axes[1].set_xlabel('x coordinate of projection (metre)')\n",
    "    axes[1].set_ylabel('y coordinate of projection (metre)')\n",
    "    plt.show()"
   ]
  },
  {
   "cell_type": "code",
   "execution_count": 97,
   "metadata": {},
   "outputs": [],
   "source": [
    "def plot_pre_post_dNBR(pre_fire, post_fire, dNBR):\n",
    "    ''' Plots pre-fire, post-fire and dNBR images in a single plot. '''\n",
    "    \n",
    "    fig, axes = plt.subplots(1,3,figsize=(26,8))\n",
    "    pre_fire.plot.imshow(ax=axes[0])\n",
    "    axes[0].set_title(\"NBR pre fire\")\n",
    "    axes[0].set_xlabel('x coordinate of projection (metre)')\n",
    "    axes[0].set_ylabel('y coordinate of projection (metre)')\n",
    "    post_fire.plot.imshow(ax=axes[1])\n",
    "    axes[1].set_title(\"NBR post fire\")\n",
    "    axes[1].set_xlabel('x coordinate of projection (metre)')\n",
    "    axes[1].set_ylabel('y coordinate of projection (metre)')\n",
    "    dNBR.plot.imshow(ax=axes[2])\n",
    "    axes[2].set_title(\"dNBR (pre-post) fire\")\n",
    "    axes[2].set_xlabel('x coordinate of projection (metre)')\n",
    "    axes[2].set_ylabel('y coordinate of projection (metre)')\n",
    "    plt.show()"
   ]
  },
  {
   "cell_type": "code",
   "execution_count": 98,
   "metadata": {},
   "outputs": [],
   "source": [
    "def plot_mask(mask):\n",
    "    ''' Plots the dNBR mask with 3 classes. '''\n",
    "    \n",
    "    colors = ['firebrick', 'wheat', 'grey']\n",
    "    severity_labels = ['Burned', 'Unburned', 'Out of range']\n",
    "    class_bins = [0.5, 1.5, 2.5, 3.5]\n",
    "\n",
    "    cmap = ListedColormap(colors)\n",
    "    norm = BoundaryNorm(class_bins, len(colors))\n",
    "\n",
    "    fig2, ax2 = plt.subplots(figsize=(7, 8))\n",
    "    plot = mask.plot.imshow(cmap=cmap, norm=norm, add_colorbar=False, ax=ax2)\n",
    "    draw_legend(plot, titles=severity_labels)\n",
    "    ax2.set(title=\"Segmentation Mask\")\n",
    "    ax2.set_xlabel('x coordinate of projection (metre)')\n",
    "    ax2.set_ylabel('y coordinate of projection (metre)')\n",
    "    plt.show()"
   ]
  },
  {
   "cell_type": "code",
   "execution_count": 99,
   "metadata": {},
   "outputs": [],
   "source": [
    "def plot_rgb_pre_post(pre_fire, post_fire):\n",
    "\n",
    "    fig, axes = plt.subplots(1, 2, figsize=(26, 8))\n",
    "    (pre_fire/2000).clip(0,1).plot.imshow(ax=axes[0])\n",
    "    axes[0].set(title='pre-fire RGB')\n",
    "    axes[0].set_xlabel('x coordinate of projection (metre)')\n",
    "    axes[0].set_ylabel('y coordinate of projection (metre)')\n",
    "\n",
    "    (post_fire/2000).clip(0,1).plot.imshow(ax=axes[1])\n",
    "    axes[1].set(title='post-fire RGB')\n",
    "    axes[1].set_xlabel('x coordinate of projection (metre)')\n",
    "    axes[1].set_ylabel('y coordinate of projection (metre)')\n",
    "    plt.show()"
   ]
  },
  {
   "cell_type": "code",
   "execution_count": 100,
   "metadata": {},
   "outputs": [],
   "source": [
    "def plot_rgb(rgb, title):\n",
    "    ''' Plots the rgb image. '''\n",
    "    title = f'{title} RGB image'\n",
    "\n",
    "    fig, ax = plt.subplots(figsize=(7, 8))\n",
    "    (rgb/2000).clip(0,1).plot.imshow(ax=ax)\n",
    "    ax.set(title=title)\n",
    "    ax.set_xlabel('x coordinate of projection (metre)')\n",
    "    ax.set_ylabel('y coordinate of projection (metre)')\n",
    "    plt.show()"
   ]
  },
  {
   "cell_type": "code",
   "execution_count": 101,
   "metadata": {},
   "outputs": [],
   "source": [
    "def apply_cloud_mask(img, img_path, rgb=False):\n",
    "    ''' Applies a cloud mask. '''\n",
    "    common_path = re.search(r'(.*?)/IMG_DATA/', img_path).group(1)\n",
    "    cloud_path = common_path + '/QI_DATA/MSK_CLASSI_B00.jp2'\n",
    "\n",
    "    cloud_mask = rioxarray.open_rasterio(cloud_path)\n",
    "    \n",
    "    if rgb==False:\n",
    "        img = img.transpose('y', 'x')\n",
    "    cloud_mask = cloud_mask.transpose('band', 'y', 'x')\n",
    "    ds_cloud_resized = cloud_mask.rio.reproject_match(img)\n",
    "\n",
    "    cloud_free_nbr = xr.where((ds_cloud_resized.sel(band=1) == 0) & (ds_cloud_resized.sel(band=2) == 0) & (ds_cloud_resized.sel(band=3) == 0), img, np.nan)\n",
    "    \n",
    "    return cloud_free_nbr"
   ]
  },
  {
   "cell_type": "code",
   "execution_count": 102,
   "metadata": {},
   "outputs": [],
   "source": [
    "def get_dNBR_and_mask(pre_fire_path, post_fire_path, cloud_mask=True, plot_figs=False):\n",
    "    ''' Loads NBR images, calculates dNBR and mask and optionally displays plots. '''\n",
    "\n",
    "    #print('Loading pre-fire NBR...')\n",
    "    if satellite == 'Sentinel':\n",
    "        image_sr1 = read_image(pre_fire_path, False, True)\n",
    "    else:\n",
    "        image_sr1 = read_landsat_image(pre_fire_path, False)\n",
    "    nbr_raws['pre_fire'] = get_NBRs(image_sr1)\n",
    "\n",
    "    #print('Loading post-fire NBR...')\n",
    "    if satellite == 'Sentinel':\n",
    "        image_sr2 = read_image(post_fire_path, False, True)\n",
    "    else:\n",
    "        image_sr2 = read_landsat_image(post_fire_path, False)\n",
    "    nbr_raws['post_fire'] = get_NBRs(image_sr2)\n",
    "\n",
    "    if cloud_mask:\n",
    "        print('Applying cloud mask...')\n",
    "        nbr_raws['pre_fire'] = apply_cloud_mask(nbr_raws['pre_fire'], pre_fire_path)\n",
    "        nbr_raws['post_fire'] = apply_cloud_mask(nbr_raws['post_fire'], post_fire_path)\n",
    "    \n",
    "    #print('Calculating dNBR...')\n",
    "    dNBR_post_raw = nbr_raws['pre_fire'] - nbr_raws['post_fire']\n",
    "    dNBR_post_raw = dNBR_post_raw.copy(deep=True, data=np.clip(dNBR_post_raw, -1., 1.))\n",
    "\n",
    "    \n",
    "    #print('Calculating mask...')\n",
    "    # Define threshold\n",
    "    burned_threshold = 0.1\n",
    "\n",
    "    # Get mask values\n",
    "    dNBR_post_raw_class_ma = dNBR_post_raw.copy(deep=True, data=xr.where(dNBR_post_raw >= burned_threshold, 1., xr.where(dNBR_post_raw < burned_threshold, 2., 3.)))\n",
    "\n",
    "    if plot_figs:\n",
    "        print('Plotting images...')\n",
    "        plot_pre_post_dNBR(nbr_raws['pre_fire'], nbr_raws['post_fire'], dNBR_post_raw)\n",
    "        plot_mask(dNBR_post_raw_class_ma)\n",
    "\n",
    "    return dNBR_post_raw, dNBR_post_raw_class_ma"
   ]
  },
  {
   "cell_type": "code",
   "execution_count": 103,
   "metadata": {},
   "outputs": [],
   "source": [
    "def download_dNBR_scenes(path_list1, path_list2, dNBR_dir, mask_dir, cloud_mask=False, plot_figs=False, plot_RGB=False):\n",
    "    n_outputs = 0\n",
    "    for path1 in path_list1:\n",
    "        if satellite == 'Sentinel':\n",
    "            location_id1 = path1.rsplit('/', 1)[-1].split('_', 1)[0]\n",
    "        else:\n",
    "            location_id1 = path1.split('/')[-1].split('_')[2]\n",
    "\n",
    "        for path2 in path_list2:\n",
    "            if satellite == 'Sentinel':\n",
    "                location_id2 = path2.rsplit('/', 1)[-1].split('_', 1)[0]\n",
    "            else:\n",
    "                location_id2 = path2.split('/')[-1].split('_')[2]\n",
    "\n",
    "            if location_id1 == location_id2:\n",
    "                if satellite == 'Sentinel':\n",
    "                    path_components = extract_file_path_components_sentinel(path1, path2)\n",
    "                else:\n",
    "                    path_components = extract_file_path_components_landsat(path1, path2)\n",
    "\n",
    "                file_paths = make_file_paths(path_components)\n",
    "                dNBR_path, mask_path = file_paths[0], file_paths[1]\n",
    "\n",
    "                rgb_path1 = make_rgb_path(path1, satellite)\n",
    "                rgb_path2 = make_rgb_path(path2, satellite)\n",
    "\n",
    "                # new_row = [fire_id, dNBR_path, mask_path]\n",
    "                # if path1 in pre_fire_paths:\n",
    "                #     new_row.append(rgb_path1)\n",
    "                #     if path2 in post_fire_paths:\n",
    "                #         new_row.append('-')\n",
    "                #         new_row.append(rgb_path2)\n",
    "                #     else:\n",
    "                #         new_row.append(rgb_path2)\n",
    "                #         new_row.append('-')\n",
    "                # else:\n",
    "                #     new_row.append('-')\n",
    "                #     new_row.append(rgb_path1)\n",
    "                #     new_row.append(rgb_path2)\n",
    "                \n",
    "                # Add new row to trace_df\n",
    "                #trace_df.loc[len(trace_df)] = new_row\n",
    "                \n",
    "                if dNBR_path in os.listdir(dNBR_dir) and mask_path in os.listdir(mask_dir):\n",
    "                    #print('dNBR scene already exists in directory! Skipping...')\n",
    "                    continue\n",
    "                dNBR, mask = get_dNBR_and_mask(path1, path2, cloud_mask=cloud_mask, plot_figs=plot_figs)\n",
    "                #dNBR = dNBR.transpose('band', 'y', 'x')\n",
    "                #mask = mask.transpose('band', 'y', 'x')\n",
    "\n",
    "                dNBR = dNBR.astype('float32')\n",
    "                mask = mask.astype('uint8')\n",
    "                dNBR.rio.to_raster(os.path.join(dNBR_dir, dNBR_path))\n",
    "                mask.rio.to_raster(os.path.join(mask_dir, mask_path))\n",
    "                n_outputs += 1\n",
    "\n",
    "                if plot_RGB:\n",
    "                    rgb1 = open_RGB(path1)\n",
    "                    rgb2 = open_RGB(path2)\n",
    "                    rgb1 = rgb1.transpose('band', 'y', 'x')\n",
    "                    rgb2 = rgb2.transpose('band', 'y', 'x')\n",
    "                    plot_rgb_pre_post(rgb1, rgb2)\n",
    "    \n",
    "    return n_outputs"
   ]
  },
  {
   "cell_type": "code",
   "execution_count": 104,
   "metadata": {},
   "outputs": [],
   "source": [
    "def download_RGB_scenes(path_list, dir, satellite, cloud_mask=False):\n",
    "    for img_path in path_list:\n",
    "        rgb_path = make_rgb_path(img_path, satellite=satellite)\n",
    "        if rgb_path in os.listdir(dir):\n",
    "                    #print('RGB scene already exists in directory! Skipping...')\n",
    "                    continue\n",
    "        try:\n",
    "            rgb = open_RGB(img_path, satellite)\n",
    "        except:\n",
    "            continue\n",
    "        rgb = rgb.transpose('band', 'y', 'x')\n",
    "        if cloud_mask:\n",
    "            rgb = apply_cloud_mask(rgb, img_path, rgb=True)\n",
    "            rgb = rgb.transpose('band', 'y', 'x')\n",
    "        rgb.rio.to_raster(os.path.join(dir, rgb_path))"
   ]
  },
  {
   "cell_type": "code",
   "execution_count": 105,
   "metadata": {},
   "outputs": [],
   "source": [
    "# Folders to store output files\n",
    "\n",
    "# dNBR_dir = '/Bhaltos/ASHWATH/Dataset/dNBR'\n",
    "# mask_dir = '/Bhaltos/ASHWATH/Dataset/Masks'\n",
    "# rgb_dir = '/Bhaltos/ASHWATH/Dataset/RGB'\n",
    "\n",
    "dNBR_dir = f'/Bhaltos/ASHWATH/optical_data_NoCloudMask_4Ryan/images/{fire_id}/{satellite}/dNBR'\n",
    "mask_dir = f'/Bhaltos/ASHWATH/optical_data_NoCloudMask_4Ryan/images/{fire_id}/{satellite}/Masks'\n",
    "rgb_dir = f'/Bhaltos/ASHWATH/optical_data_NoCloudMask_4Ryan/images/{fire_id}/{satellite}/RGB'"
   ]
  },
  {
   "cell_type": "code",
   "execution_count": 106,
   "metadata": {},
   "outputs": [
    {
     "name": "stdout",
     "output_type": "stream",
     "text": [
      "(1, 23433, 23043)\n",
      "(1, 23433, 23043)\n",
      "Resampled NIR shape:  (1, 23433, 23043)\n",
      "Resampled SWIR shape:  (1, 23433, 23043)\n",
      "Image SR loaded\n",
      "\n",
      "(1, 23463, 23043)\n",
      "(1, 23463, 23043)\n",
      "Resampled NIR shape:  (1, 23463, 23043)\n",
      "Resampled SWIR shape:  (1, 23463, 23043)\n",
      "Image SR loaded\n",
      "\n",
      "(1, 23433, 23043)\n",
      "(1, 23433, 23043)\n",
      "Resampled NIR shape:  (1, 23433, 23043)\n",
      "Resampled SWIR shape:  (1, 23433, 23043)\n",
      "Image SR loaded\n",
      "\n",
      "(1, 23463, 23043)\n",
      "(1, 23463, 23043)\n",
      "Resampled NIR shape:  (1, 23463, 23043)\n",
      "Resampled SWIR shape:  (1, 23463, 23043)\n",
      "Image SR loaded\n",
      "\n",
      "pre-fire with post-fire done.\n",
      "pre-fire with in-fire done.\n",
      "in-fire with post-fire done.\n",
      "Images saved.\n",
      "\n",
      "Number of dNBR scenes: 2\n"
     ]
    }
   ],
   "source": [
    "n_outputs = 0\n",
    "get_dNBR_mask = True\n",
    "get_RGB = True\n",
    "plot_RGB = False\n",
    "plot_figs = False\n",
    "cloud_mask = False\n",
    "#TO-DO\n",
    "# Resize images to make landsat and sentinel image sizes uniform\n",
    "# Move code to workstation and run there for each fired id download an upload\n",
    "br = 0\n",
    "\n",
    "# Download RGB scenes\n",
    "if get_RGB:\n",
    "    download_RGB_scenes(pre_fire_paths, rgb_dir, satellite, cloud_mask)\n",
    "    download_RGB_scenes(post_fire_paths, rgb_dir, satellite, cloud_mask)\n",
    "    download_RGB_scenes(in_fire_paths, rgb_dir, satellite, cloud_mask)\n",
    "\n",
    "# Download dNBR scenes and segmentation masks, optionally plotting them and/or their respective RGB scenes\n",
    "if get_dNBR_mask:\n",
    "    n_outputs += download_dNBR_scenes(pre_fire_paths, post_fire_paths, dNBR_dir, mask_dir, cloud_mask, plot_figs, plot_RGB)\n",
    "    print('pre-fire with post-fire done.')\n",
    "    n_outputs += download_dNBR_scenes(pre_fire_paths, in_fire_paths, dNBR_dir, mask_dir, cloud_mask, plot_figs, plot_RGB)\n",
    "    print('pre-fire with in-fire done.')\n",
    "    n_outputs += download_dNBR_scenes(in_fire_paths, post_fire_paths, dNBR_dir, mask_dir, cloud_mask, plot_figs, plot_RGB)\n",
    "    print('in-fire with post-fire done.')\n",
    "    print('Images saved.')\n",
    "\n",
    "print(f'\\nNumber of dNBR scenes: {n_outputs}')"
   ]
  },
  {
   "cell_type": "code",
   "execution_count": 107,
   "metadata": {},
   "outputs": [],
   "source": [
    "# Code to fetch features of the fire event from the geojson file\n",
    "#gpath ='/Users/ashwath/Documents/Firedpy/Fire_events/8676/Sentinel/Sentinel_footprints.geojson'\n",
    "#\n",
    "#with open(gpath) as f:\n",
    "#    gj = geojson.load(f)\n",
    "#features = gj['features'][0]\n",
    "#features"
   ]
  },
  {
   "cell_type": "code",
   "execution_count": 108,
   "metadata": {},
   "outputs": [],
   "source": [
    "# trace_df.head()"
   ]
  },
  {
   "cell_type": "code",
   "execution_count": 109,
   "metadata": {},
   "outputs": [],
   "source": [
    "# csv_filename = 'metadata.csv'\n",
    "# project_dir = '/home/aramakrishnan/Documents/Firedpy'\n",
    "\n",
    "# if csv_filename in os.listdir(project_dir):\n",
    "#     df = pd.read_csv(os.path.join(project_dir, csv_filename))\n",
    "#     df = pd.concat([df, trace_df]).reset_index(drop=True)\n",
    "# else:\n",
    "#     df = trace_df\n",
    "# df.drop_duplicates(subset='DNBR', inplace=True)\n",
    "# df.reset_index(drop=True)\n",
    "# df.to_csv(os.path.join(project_dir, csv_filename), index=False)"
   ]
  },
  {
   "cell_type": "code",
   "execution_count": 110,
   "metadata": {},
   "outputs": [],
   "source": [
    "#df.head()"
   ]
  },
  {
   "cell_type": "code",
   "execution_count": 111,
   "metadata": {},
   "outputs": [],
   "source": [
    "# Code to generate list of uuids / product ids for the fire event\n",
    "#j=0\n",
    "#for i in gj['features']:\n",
    "#    j+=1\n",
    "#    print(i['properties']['uuid'])\n",
    "#print(f'J len: {j}')"
   ]
  },
  {
   "cell_type": "code",
   "execution_count": 112,
   "metadata": {},
   "outputs": [],
   "source": [
    "# # EXAMPLE of reading and plotting output files\n",
    "# read_img_path = '/Bhaltos/ASHWATH/Dataset/dNBR/S2B_L2A_T12SXJ_7792_20200713T175909_20201006T180231_10m_DNBR.TIF'\n",
    "# read_mask_path = '/Bhaltos/ASHWATH/Dataset/Masks/S2B_L2A_T12SXJ_7792_20200713T175909_20201006T180231_10m_MASK.TIF'\n",
    "# #\n",
    "# img = rioxarray.open_rasterio(read_img_path).squeeze()\n",
    "# ma = rioxarray.open_rasterio(read_mask_path).squeeze()\n",
    "# #\n",
    "# print(img.shape)\n",
    "# print(ma.shape)\n",
    "# #\n",
    "# plot_dNBR_mask(img, ma)"
   ]
  },
  {
   "cell_type": "code",
   "execution_count": 113,
   "metadata": {},
   "outputs": [],
   "source": [
    "# from osgeo import gdal\n",
    "\n",
    "# def extract_metadata(tif_file):\n",
    "#     \"\"\"\n",
    "#     Extracts metadata from a GeoTIFF file.\n",
    "\n",
    "#     Args:\n",
    "#     - tif_file (str): Path to the GeoTIFF file.\n",
    "\n",
    "#     Returns:\n",
    "#     - metadata (dict): Dictionary containing metadata.\n",
    "#     \"\"\"\n",
    "#     # Open the GeoTIFF file\n",
    "#     dataset = gdal.Open(tif_file)\n",
    "\n",
    "#     # Get metadata\n",
    "#     metadata = {\n",
    "#         'coordinate_system': dataset.GetProjection(),\n",
    "#         'origin': dataset.GetGeoTransform()[0:2],\n",
    "#         'pixel_size': dataset.GetGeoTransform()[1:3],\n",
    "#         'corner_coordinates': dataset.GetGeoTransform(),\n",
    "#         'band_information': {\n",
    "#             'count': dataset.RasterCount,\n",
    "#             'data_type': dataset.GetRasterBand(1).DataType,\n",
    "#             'color_interp': dataset.GetRasterBand(1).GetColorInterpretation()\n",
    "#         }\n",
    "#     }\n",
    "\n",
    "#     # Close the dataset\n",
    "#     dataset = None\n",
    "\n",
    "#     return metadata\n",
    "\n",
    "# # Example usage:\n",
    "# tif_file = '/Bhaltos/ASHWATH/Dataset/dNBR/S2B_L2A_T21LVC_47422_20210703T141049_20210730T140059_10m_DNBR.TIF'\n",
    "# metadata = extract_metadata(tif_file)\n",
    "# print(metadata)\n"
   ]
  },
  {
   "cell_type": "code",
   "execution_count": 114,
   "metadata": {},
   "outputs": [],
   "source": [
    "# EXAMPLE of reading and plotting output files\n",
    "#read_img_path = '/home/aramakrishnan/Documents/Firedpy/Dataset/dNBR/S2B_L2A_T15STC_11862_20210223T171309_20210429T170851_10m_DNBR.TIF'\n",
    "#read_mask_path = '/home/aramakrishnan/Documents/Firedpy/Dataset/Masks/S2B_L2A_T15STC_11862_20210223T171309_20210429T170851_10m_MASK.TIF'\n",
    "\n",
    "#img = rioxarray.open_rasterio(read_img_path).squeeze()\n",
    "#ma = rioxarray.open_rasterio(read_mask_path).squeeze()\n",
    "\n",
    "#print(img.shape)\n",
    "#print(ma.shape)\n",
    "\n",
    "#plot_dNBR_mask(img, ma)"
   ]
  },
  {
   "cell_type": "code",
   "execution_count": 115,
   "metadata": {},
   "outputs": [],
   "source": [
    "#read_rgb_dir = '/Users/ashwath/Documents/Firedpy/Dataset/RGB'\n",
    "#for rgb_path in os.listdir(read_rgb_dir):\n",
    "#    if rgb_path[-4:] != '.TIF':\n",
    "#        continue\n",
    "#    rgb = rioxarray.open_rasterio(os.path.join(read_rgb_dir, rgb_path))\n",
    "#    plot_rgb(rgb, 'fire scene')"
   ]
  },
  {
   "cell_type": "code",
   "execution_count": 116,
   "metadata": {},
   "outputs": [],
   "source": [
    "#path1 = '/Users/ashwath/Documents/Firedpy/Dataset/dNBR/LC08_L1TP_028036_8676_20210201_20210508_10m_DNBR.TIF'\n",
    "#path2 = '/Users/ashwath/Documents/Firedpy/Dataset/dNBR/LC08_L1TP_028036_8676_20210201_20210508_10m_MASK.TIF'\n",
    "#\n",
    "#img_without_clouds = rioxarray.open_rasterio(path1).squeeze()\n",
    "#img_with_clouds = rioxarray.open_rasterio(path2).squeeze()\n",
    "#\n",
    "#fig, axes = plt.subplots(1,2,figsize=(26,8))\n",
    "#img_with_clouds.plot.imshow(ax=axes[0])\n",
    "#axes[0].set_title(\"dNBR with clouds\")\n",
    "#axes[0].set_xlabel('x coordinate of projection (metre)')\n",
    "#axes[0].set_ylabel('y coordinate of projection (metre)')\n",
    "#img_without_clouds.plot.imshow(ax=axes[1])\n",
    "#axes[1].set_title(\"dNBR without clouds\")\n",
    "#axes[1].set_xlabel('x coordinate of projection (metre)')\n",
    "#axes[1].set_ylabel('y coordinate of projection (metre)')\n",
    "#plt.show()"
   ]
  },
  {
   "cell_type": "code",
   "execution_count": 118,
   "metadata": {},
   "outputs": [
    {
     "name": "stdout",
     "output_type": "stream",
     "text": [
      "(1, 510, 1057)\n"
     ]
    }
   ],
   "source": [
    "# #Examining sample SAR data\n",
    "\n",
    "# import rioxarray\n",
    "\n",
    "# # Open the TIFF file using rioxarray\n",
    "# tiff_file_path = '/Bhaltos/ASHWATH/SAR_data/fid_7792/DESCENDING/coh_change/20200714_20200726_20200807_cohChange.tif'\n",
    "# data = rioxarray.open_rasterio(tiff_file_path)\n",
    "\n",
    "# # Print the shape of the data\n",
    "# print(data.shape)"
   ]
  },
  {
   "cell_type": "code",
   "execution_count": 119,
   "metadata": {},
   "outputs": [
    {
     "name": "stdout",
     "output_type": "stream",
     "text": [
      "(1, 510, 1057)\n"
     ]
    }
   ],
   "source": [
    "# tiff_file_path = '/Bhaltos/ASHWATH/SAR_data/fid_7792/DESCENDING/lum_change/20200714_20200726_DeltaLumin_100m_filt.tif'\n",
    "# data = rioxarray.open_rasterio(tiff_file_path)\n",
    "\n",
    "# # Print the shape of the data\n",
    "# print(data.shape)"
   ]
  },
  {
   "cell_type": "code",
   "execution_count": 120,
   "metadata": {},
   "outputs": [
    {
     "name": "stdout",
     "output_type": "stream",
     "text": [
      "(1, 510, 1057)\n"
     ]
    }
   ],
   "source": [
    "# tiff_file_path = '/Bhaltos/ASHWATH/SAR_data/fid_7792/DESCENDING/combined_product/FIREDpy_sar_combined_20200714_20200726.tif'\n",
    "# data = rioxarray.open_rasterio(tiff_file_path)\n",
    "\n",
    "# # Print the shape of the data\n",
    "# print(data.shape)"
   ]
  },
  {
   "cell_type": "code",
   "execution_count": null,
   "metadata": {},
   "outputs": [],
   "source": []
  }
 ],
 "metadata": {
  "kernelspec": {
   "display_name": "Python 3",
   "language": "python",
   "name": "python3"
  },
  "language_info": {
   "codemirror_mode": {
    "name": "ipython",
    "version": 3
   },
   "file_extension": ".py",
   "mimetype": "text/x-python",
   "name": "python",
   "nbconvert_exporter": "python",
   "pygments_lexer": "ipython3",
   "version": "3.10.13"
  },
  "orig_nbformat": 4
 },
 "nbformat": 4,
 "nbformat_minor": 2
}
