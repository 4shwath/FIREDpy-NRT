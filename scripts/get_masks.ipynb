{
 "cells": [
  {
   "cell_type": "code",
   "execution_count": 3,
   "metadata": {},
   "outputs": [],
   "source": [
    "# CODE TO CREATE SEGMENTATION MASKS FROM DNBR IMAGES\n",
    "\n",
    "import os\n",
    "import rioxarray\n",
    "import xarray as xr\n",
    "import rasterio as rio\n",
    "\n",
    "# Define paths\n",
    "dnbr_folder = \"/Bhaltos/ASHWATH/Dataset/dNBR\"  # Path to the folder containing dnbr files\n",
    "mask_folder = \"/Bhaltos/ASHWATH/Dataset/Masks\"  # Path to the folder where you want to save mask files\n",
    "burned_threshold = 0.1\n",
    "\n",
    "# Create the mask folder if it doesn't exist\n",
    "#if not os.path.exists(mask_folder):\n",
    "#    os.makedirs(mask_folder)\n",
    "# Iterate through dnbr files\n",
    "for dnbr_file in os.listdir(dnbr_folder):\n",
    "    if dnbr_file.endswith(\"_DNBR.TIF\"):  # Check if it's a dnbr file\n",
    "        dnbr_path = os.path.join(dnbr_folder, dnbr_file)\n",
    "        mask_path = dnbr_file.replace(\"_DNBR.TIF\", \"_MASK.TIF\")\n",
    "        mask_path = os.path.join(mask_folder, mask_path)\n",
    "\n",
    "        if not os.path.exists(mask_path):\n",
    "            dNBR_post_raw = rioxarray.open_rasterio(dnbr_path)\n",
    "        \n",
    "            dNBR_post_raw_class_ma = dNBR_post_raw.copy(deep=True)\n",
    "            dNBR_post_raw_class_ma.data = xr.where(dNBR_post_raw >= burned_threshold, 1., xr.where(dNBR_post_raw < burned_threshold, 2., 3.))\n",
    "            mask = dNBR_post_raw_class_ma\n",
    "            mask = mask.astype('uint8')        \n",
    "        \n",
    "            # Save mask as raster\n",
    "            mask.rio.to_raster(mask_path)\n",
    "\n",
    "            print(f\"Mask saved for {dnbr_file} at {mask_path}\")\n",
    "        #else:\n",
    "        #    print('Already exists.')"
   ]
  },
  {
   "cell_type": "code",
   "execution_count": null,
   "metadata": {},
   "outputs": [],
   "source": []
  }
 ],
 "metadata": {
  "kernelspec": {
   "display_name": "base",
   "language": "python",
   "name": "python3"
  },
  "language_info": {
   "codemirror_mode": {
    "name": "ipython",
    "version": 3
   },
   "file_extension": ".py",
   "mimetype": "text/x-python",
   "name": "python",
   "nbconvert_exporter": "python",
   "pygments_lexer": "ipython3",
   "version": "3.10.13"
  }
 },
 "nbformat": 4,
 "nbformat_minor": 2
}
